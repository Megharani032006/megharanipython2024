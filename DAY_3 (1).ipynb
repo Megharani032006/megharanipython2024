{
  "nbformat": 4,
  "nbformat_minor": 0,
  "metadata": {
    "colab": {
      "provenance": []
    },
    "kernelspec": {
      "name": "python3",
      "display_name": "Python 3"
    },
    "language_info": {
      "name": "python"
    }
  },
  "cells": [
    {
      "cell_type": "markdown",
      "source": [
        "# *FUNCTION AND MODULES*"
      ],
      "metadata": {
        "id": "6FKfcCXh9am9"
      }
    },
    {
      "cell_type": "code",
      "source": [
        "def greet(name):\n",
        "  print(\"hello \"+ name +\"!\")\n",
        "greet(\"megha\")"
      ],
      "metadata": {
        "colab": {
          "base_uri": "https://localhost:8080/"
        },
        "id": "F1iACMawel21",
        "outputId": "50df7396-726c-4622-a136-1919ab11387e"
      },
      "execution_count": null,
      "outputs": [
        {
          "output_type": "stream",
          "name": "stdout",
          "text": [
            "hello megha!\n"
          ]
        }
      ]
    },
    {
      "cell_type": "markdown",
      "source": [
        "Functional Argument\n",
        "# 1.Positional Argument"
      ],
      "metadata": {
        "id": "iXtfT30sfF1j"
      }
    },
    {
      "cell_type": "code",
      "source": [
        "def add(a,b):\n",
        "  return a+b\n",
        "  print(add(5, 4))"
      ],
      "metadata": {
        "id": "ADxNwXc6fiHj"
      },
      "execution_count": null,
      "outputs": []
    },
    {
      "cell_type": "markdown",
      "source": [
        " #keyword Argument"
      ],
      "metadata": {
        "id": "WW2KTnvSgNTK"
      }
    },
    {
      "cell_type": "code",
      "source": [
        "def greet(name, message):\n",
        "  print(message+\",\"+name+\"!\")\n",
        "  greet(name=\"megha\", message=\"good morning\")"
      ],
      "metadata": {
        "id": "4pT8XaoZgbBL"
      },
      "execution_count": null,
      "outputs": []
    },
    {
      "cell_type": "markdown",
      "source": [
        "\n",
        "\n",
        "#defalut Argument"
      ],
      "metadata": {
        "id": "AHQlAs3KhXMr"
      }
    },
    {
      "cell_type": "code",
      "source": [
        "def greet(name, message=\"hello\"):\n",
        "  print(message+\",\"+name+\"!\")\n",
        "greet(\"megha\")\n",
        "greet(\"rakshitha\",\"hi\")"
      ],
      "metadata": {
        "colab": {
          "base_uri": "https://localhost:8080/"
        },
        "id": "-q1nS0iThfsi",
        "outputId": "95c4f940-b1b9-4dc9-a36a-a42e68d1f9f7"
      },
      "execution_count": null,
      "outputs": [
        {
          "output_type": "stream",
          "name": "stdout",
          "text": [
            "hello,megha!\n",
            "hi,rakshitha!\n"
          ]
        }
      ]
    },
    {
      "cell_type": "markdown",
      "source": [
        "variable length argument"
      ],
      "metadata": {
        "id": "JygLb2XojT48"
      }
    },
    {
      "cell_type": "markdown",
      "source": [
        "# #**key world argument\n",
        "\n"
      ],
      "metadata": {
        "id": "2xgOfEBGmCEz"
      }
    },
    {
      "cell_type": "code",
      "source": [
        "def sum_numbers(*numbers):\n",
        "  return  sum(numbers)\n",
        "print(sum_numbers(1, 2, 3, 4))\n"
      ],
      "metadata": {
        "colab": {
          "base_uri": "https://localhost:8080/"
        },
        "id": "UUXe0CR1jYAa",
        "outputId": "60aeb8ed-ec09-4e5e-98f2-159fe42c918b"
      },
      "execution_count": null,
      "outputs": [
        {
          "output_type": "stream",
          "name": "stdout",
          "text": [
            "10\n"
          ]
        }
      ]
    },
    {
      "cell_type": "code",
      "source": [
        "def add_all(**numbers):\n",
        "    total = sum(numbers)\n",
        "    print(f\"Sum: {total}\")\n",
        "\n",
        "add_all(1, 2, 3, 4)\n"
      ],
      "metadata": {
        "id": "YCMGzBr0k-HL"
      },
      "execution_count": null,
      "outputs": []
    },
    {
      "cell_type": "code",
      "source": [
        "def megha(**number):\n",
        "  for key, value in number.items():\n",
        "    print(f\"{key}, {value}\")\n",
        "megha(name=\"megha\",age=18, city=\"hydrabad\")"
      ],
      "metadata": {
        "colab": {
          "base_uri": "https://localhost:8080/"
        },
        "id": "X2x3euYwmTMy",
        "outputId": "b6c20d77-fed0-4e35-f43a-569f6a03b496"
      },
      "execution_count": null,
      "outputs": [
        {
          "output_type": "stream",
          "name": "stdout",
          "text": [
            "name, megha\n",
            "age, 18\n",
            "city, hydrabad\n"
          ]
        }
      ]
    },
    {
      "cell_type": "markdown",
      "source": [
        "RETRUN STATEMENT"
      ],
      "metadata": {
        "id": "KCCmUh8mnvmc"
      }
    },
    {
      "cell_type": "code",
      "source": [
        "def square(num):\n",
        "  return num*num\n",
        "\n",
        "result =square(5)\n",
        "print(result)"
      ],
      "metadata": {
        "colab": {
          "base_uri": "https://localhost:8080/"
        },
        "id": "3g_FqYeSn7eb",
        "outputId": "ae572503-5999-46ed-aeba-0ebc18f724c6"
      },
      "execution_count": null,
      "outputs": [
        {
          "output_type": "stream",
          "name": "stdout",
          "text": [
            "25\n"
          ]
        }
      ]
    },
    {
      "cell_type": "code",
      "source": [
        "result =square(5)\n",
        "print(result)"
      ],
      "metadata": {
        "colab": {
          "base_uri": "https://localhost:8080/"
        },
        "id": "Sr1wnvjPqQNm",
        "outputId": "811a3077-e130-4045-e196-c8110e403bc9"
      },
      "execution_count": null,
      "outputs": [
        {
          "output_type": "stream",
          "name": "stdout",
          "text": [
            "25\n"
          ]
        }
      ]
    },
    {
      "cell_type": "markdown",
      "source": [
        "MODULES"
      ],
      "metadata": {
        "id": "Pj8BhKUWqVrF"
      }
    },
    {
      "cell_type": "code",
      "source": [
        "import math\n",
        "print(math.sqrt(16))"
      ],
      "metadata": {
        "colab": {
          "base_uri": "https://localhost:8080/"
        },
        "id": "e9UikaJ0qajK",
        "outputId": "8a5285e5-8ea5-4685-c9a5-2e7e1e3251b4"
      },
      "execution_count": null,
      "outputs": [
        {
          "output_type": "stream",
          "name": "stdout",
          "text": [
            "4.0\n"
          ]
        }
      ]
    },
    {
      "cell_type": "code",
      "source": [
        "#import specific function\n",
        "from math import pi,sin\n",
        "print(pi)\n",
        "print(sin(math.radians(90)))"
      ],
      "metadata": {
        "colab": {
          "base_uri": "https://localhost:8080/"
        },
        "id": "1S2fV9ZvrAP0",
        "outputId": "d227232b-d847-4c59-ea87-83cb48412e34"
      },
      "execution_count": null,
      "outputs": [
        {
          "output_type": "stream",
          "name": "stdout",
          "text": [
            "3.141592653589793\n",
            "1.0\n"
          ]
        }
      ]
    },
    {
      "cell_type": "markdown",
      "source": [],
      "metadata": {
        "id": "aAj7wDe0tnzi"
      }
    },
    {
      "cell_type": "code",
      "source": [
        "import my_module\n",
        "my_module.greet(\"Alice\")\n",
        "print(my_module.add(5,3))"
      ],
      "metadata": {
        "colab": {
          "base_uri": "https://localhost:8080/",
          "height": 349
        },
        "id": "EvYl3SfQuQAE",
        "outputId": "55b65db3-0a69-4999-e130-e76fd8d061fb",
        "collapsed": true
      },
      "execution_count": null,
      "outputs": [
        {
          "output_type": "error",
          "ename": "ModuleNotFoundError",
          "evalue": "No module named 'my_module'",
          "traceback": [
            "\u001b[0;31m---------------------------------------------------------------------------\u001b[0m",
            "\u001b[0;31mModuleNotFoundError\u001b[0m                       Traceback (most recent call last)",
            "\u001b[0;32m<ipython-input-52-457b38a5c97a>\u001b[0m in \u001b[0;36m<cell line: 1>\u001b[0;34m()\u001b[0m\n\u001b[0;32m----> 1\u001b[0;31m \u001b[0;32mimport\u001b[0m \u001b[0mmy_module\u001b[0m\u001b[0;34m\u001b[0m\u001b[0;34m\u001b[0m\u001b[0m\n\u001b[0m\u001b[1;32m      2\u001b[0m \u001b[0mmy_module\u001b[0m\u001b[0;34m.\u001b[0m\u001b[0mgreet\u001b[0m\u001b[0;34m(\u001b[0m\u001b[0;34m\"Alice\"\u001b[0m\u001b[0;34m)\u001b[0m\u001b[0;34m\u001b[0m\u001b[0;34m\u001b[0m\u001b[0m\n\u001b[1;32m      3\u001b[0m \u001b[0mprint\u001b[0m\u001b[0;34m(\u001b[0m\u001b[0mmy_module\u001b[0m\u001b[0;34m.\u001b[0m\u001b[0madd\u001b[0m\u001b[0;34m(\u001b[0m\u001b[0;36m5\u001b[0m\u001b[0;34m,\u001b[0m\u001b[0;36m3\u001b[0m\u001b[0;34m)\u001b[0m\u001b[0;34m)\u001b[0m\u001b[0;34m\u001b[0m\u001b[0;34m\u001b[0m\u001b[0m\n",
            "\u001b[0;31mModuleNotFoundError\u001b[0m: No module named 'my_module'",
            "",
            "\u001b[0;31m---------------------------------------------------------------------------\u001b[0;32m\nNOTE: If your import is failing due to a missing package, you can\nmanually install dependencies using either !pip or !apt.\n\nTo view examples of installing some common dependencies, click the\n\"Open Examples\" button below.\n\u001b[0;31m---------------------------------------------------------------------------\u001b[0m\n"
          ],
          "errorDetails": {
            "actions": [
              {
                "action": "open_url",
                "actionText": "Open Examples",
                "url": "/notebooks/snippets/importing_libraries.ipynb"
              }
            ]
          }
        }
      ]
    },
    {
      "cell_type": "markdown",
      "source": [
        "prime number are not"
      ],
      "metadata": {
        "id": "eg8MYr1fGN4-"
      }
    },
    {
      "cell_type": "code",
      "source": [
        "def is_prime(number):\n",
        "  if number <=1:\n",
        "    return false\n",
        "  for i in range(2,int(num**0.5) +1):\n",
        "   if number%i==0:\n",
        "     return false\n",
        "   return True\n",
        "\n",
        "num=int(input(\"enter a num:\"))\n",
        "if is_prime(num):\n",
        "  print(\"the num is prime\")\n",
        "else:\n",
        "  print(\"the numis not a prime\")\n"
      ],
      "metadata": {
        "id": "35gSwZ4Lwne7",
        "colab": {
          "base_uri": "https://localhost:8080/"
        },
        "outputId": "1bc16824-fae9-4f77-edd9-a07088317789"
      },
      "execution_count": 18,
      "outputs": [
        {
          "output_type": "stream",
          "name": "stdout",
          "text": [
            "enter a num:3\n",
            "the numis not a prime\n"
          ]
        }
      ]
    },
    {
      "cell_type": "code",
      "source": [
        "def fibonacci(n):\n",
        "  sequence=[]\n",
        "  a,b= 0 , 1\n",
        "  for _ in range(n):\n",
        "    sequence.append(a)\n",
        "    a,b=b,a+b\n",
        "  return sequence\n",
        "\n",
        "terms=int(input(\"enter the number of terms:\"))\n",
        "print(\"Fibonacci sequence:\",fibonacci(terms))"
      ],
      "metadata": {
        "colab": {
          "base_uri": "https://localhost:8080/"
        },
        "id": "D4gQGU5vMjOS",
        "outputId": "cd0c1093-60d0-432b-e04e-05cf2d27127b"
      },
      "execution_count": 46,
      "outputs": [
        {
          "output_type": "stream",
          "name": "stdout",
          "text": [
            "enter the number of terms:4\n",
            "Fibonacci sequence: [0, 1, 1, 2]\n"
          ]
        }
      ]
    },
    {
      "cell_type": "code",
      "source": [
        "import math\n",
        "\n",
        "angle=float(input(\"enter an angle in degrees\"))\n",
        "radian=math.radians(angle)\n",
        "print(\"sine of angle:\" ,math.sin(radian))\n",
        "print(\"cosine of angle:\" ,math.cos(radian))"
      ],
      "metadata": {
        "colab": {
          "base_uri": "https://localhost:8080/"
        },
        "id": "JGhPQOQgPUHy",
        "outputId": "9b3c91bc-1f69-41fc-bd50-2b92d30f41a8"
      },
      "execution_count": 30,
      "outputs": [
        {
          "output_type": "stream",
          "name": "stdout",
          "text": [
            "enter an angle in degrees90\n",
            "sine of angle: 1.0\n",
            "cosine of angle: 6.123233995736766e-17\n"
          ]
        }
      ]
    },
    {
      "cell_type": "markdown",
      "source": [
        "factorial useing recursion"
      ],
      "metadata": {
        "id": "O-DUClQDTL5P"
      }
    },
    {
      "cell_type": "code",
      "source": [
        "def factorial(n):\n",
        "  if n==0:\n",
        "    return 1\n",
        "  else:\n",
        "    return n*factorial(n-1)\n",
        "\n",
        "num =int(input(\"enter a number\"))\n",
        "print(\"factorial:\" ,factorial(num))"
      ],
      "metadata": {
        "colab": {
          "base_uri": "https://localhost:8080/"
        },
        "id": "Im1n6cjeTkyf",
        "outputId": "9946a8d4-222f-4115-d959-2572e4745aa5"
      },
      "execution_count": 50,
      "outputs": [
        {
          "output_type": "stream",
          "name": "stdout",
          "text": [
            "enter a number6\n",
            "factorial: 720\n"
          ]
        }
      ]
    },
    {
      "cell_type": "markdown",
      "source": [
        "fibonacci series useing function"
      ],
      "metadata": {
        "id": "1JqAiPIRVEbf"
      }
    },
    {
      "cell_type": "code",
      "source": [
        "def fibonacci(n):\n",
        "  a,b=0,1\n",
        "  for _ in range(n):\n",
        "    print(a,end=\"\")\n",
        "    a,b=b,a+b\n",
        "count=int(input(\"enter the number of terms\"))\n",
        "fibonacci(count)"
      ],
      "metadata": {
        "colab": {
          "base_uri": "https://localhost:8080/"
        },
        "id": "671yG1-kVSdf",
        "outputId": "eac8a637-bf0d-430e-ab1a-11448d13d750"
      },
      "execution_count": 52,
      "outputs": [
        {
          "output_type": "stream",
          "name": "stdout",
          "text": [
            "enter the number of terms8\n",
            "011235813"
          ]
        }
      ]
    },
    {
      "cell_type": "markdown",
      "source": [
        "check revers string"
      ],
      "metadata": {
        "id": "cfvF3CUpWSs_"
      }
    },
    {
      "cell_type": "code",
      "source": [
        "def reverse_string(s):\n",
        "  return s[::-1]\n",
        "\n",
        "text=input(\"enter a string\")\n",
        "print(\"reversed string:\", reverse_string(text))\n"
      ],
      "metadata": {
        "colab": {
          "base_uri": "https://localhost:8080/"
        },
        "id": "qBSl3fihWa3u",
        "outputId": "749c1db1-11f9-43ee-ef1e-8f905ff07096"
      },
      "execution_count": 54,
      "outputs": [
        {
          "output_type": "stream",
          "name": "stdout",
          "text": [
            "enter a stringgood\n",
            "reversed string: doog\n"
          ]
        }
      ]
    },
    {
      "cell_type": "code",
      "source": [
        "def gcd(a,b):\n",
        "  while b:\n",
        "    a,b=b,a%b\n",
        "    return a\n",
        "\n",
        "num1=int(input(\"enter first number\"))\n",
        "num2=int(input(\"enter second number\"))\n",
        "print(\"GCD:\",gcd(num1,num2))"
      ],
      "metadata": {
        "colab": {
          "base_uri": "https://localhost:8080/"
        },
        "id": "q76VVSuKY9QW",
        "outputId": "905233ef-0e6c-42b5-a8f5-9f0ced316c5f"
      },
      "execution_count": 57,
      "outputs": [
        {
          "output_type": "stream",
          "name": "stdout",
          "text": [
            "enter first number8\n",
            "enter second number12\n",
            "GCD: 12\n"
          ]
        }
      ]
    }
  ]
}