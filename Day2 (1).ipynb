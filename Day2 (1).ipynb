{
  "nbformat": 4,
  "nbformat_minor": 0,
  "metadata": {
    "colab": {
      "provenance": []
    },
    "kernelspec": {
      "name": "python3",
      "display_name": "Python 3"
    },
    "language_info": {
      "name": "python"
    }
  },
  "cells": [
    {
      "cell_type": "markdown",
      "source": [
        "Control flow and loops\n",
        "1.conditional statement"
      ],
      "metadata": {
        "id": "rBPFSE730Mqm"
      }
    },
    {
      "cell_type": "code",
      "source": [
        "age=18\n",
        "if age>=18:\n",
        "  print(\"you are eligible to vote\")"
      ],
      "metadata": {
        "colab": {
          "base_uri": "https://localhost:8080/"
        },
        "id": "1101Zono1Fx3",
        "outputId": "30fa2f5a-e9b3-4003-c154-076de87c3c72"
      },
      "execution_count": 24,
      "outputs": [
        {
          "output_type": "stream",
          "name": "stdout",
          "text": [
            "you are eligible to vote\n"
          ]
        }
      ]
    },
    {
      "cell_type": "markdown",
      "source": [
        "if else"
      ],
      "metadata": {
        "id": "DjOCYe0r2R2p"
      }
    },
    {
      "cell_type": "code",
      "source": [
        "num=int(input(\"enter a number\"))\n",
        "if num%2==0:\n",
        "  print(\"number is even\")\n",
        "else:\n",
        "  print(\"number is odd\")"
      ],
      "metadata": {
        "colab": {
          "base_uri": "https://localhost:8080/"
        },
        "id": "LXa8pgTk2US-",
        "outputId": "1694a492-e904-48c7-9740-e40dea5bd100"
      },
      "execution_count": 2,
      "outputs": [
        {
          "output_type": "stream",
          "name": "stdout",
          "text": [
            "enter a number7\n",
            "number is odd\n"
          ]
        }
      ]
    },
    {
      "cell_type": "markdown",
      "source": [
        "if-elief-else statement\n"
      ],
      "metadata": {
        "id": "rl0s0cXV3P3n"
      }
    },
    {
      "cell_type": "code",
      "source": [
        "marks=int(input(\"enter your marks\"))\n",
        "if marks>=90:\n",
        "  print(\"grade A\")\n",
        "elif marks>=80:\n",
        "  print(\"grade B\")\n",
        "elif marks>=70:\n",
        "  print(\"grade C\")\n",
        "elif marks>=60:\n",
        "    print(\"grade D\")\n",
        "else:\n",
        "  print(\"grade F\")"
      ],
      "metadata": {
        "colab": {
          "base_uri": "https://localhost:8080/"
        },
        "id": "wKC6k3043aVu",
        "outputId": "077ca9f8-d74b-4e57-9f69-40a0459565fb"
      },
      "execution_count": 3,
      "outputs": [
        {
          "output_type": "stream",
          "name": "stdout",
          "text": [
            "enter your marks88\n",
            "grade B\n"
          ]
        }
      ]
    },
    {
      "cell_type": "markdown",
      "source": [
        "FOR LOOOP"
      ],
      "metadata": {
        "id": "YKwJrD6v5s0X"
      }
    },
    {
      "cell_type": "code",
      "source": [
        "for i in range(5):\n",
        "  print(\"interation\",i)\n"
      ],
      "metadata": {
        "colab": {
          "base_uri": "https://localhost:8080/"
        },
        "collapsed": true,
        "id": "wGN98fgD57AV",
        "outputId": "9cd0a192-650b-4085-8f63-8e56417d2e01"
      },
      "execution_count": 23,
      "outputs": [
        {
          "output_type": "stream",
          "name": "stdout",
          "text": [
            "interation 0\n",
            "interation 1\n",
            "interation 2\n",
            "interation 3\n",
            "interation 4\n"
          ]
        }
      ]
    },
    {
      "cell_type": "markdown",
      "source": [
        "while statement\n"
      ],
      "metadata": {
        "id": "sQcaTPvq7eMv"
      }
    },
    {
      "cell_type": "code",
      "source": [
        "from typing import Counter\n",
        "count=0\n",
        "while count<5:\n",
        "  print(\"count:\", count)\n",
        "  count+=1"
      ],
      "metadata": {
        "colab": {
          "base_uri": "https://localhost:8080/"
        },
        "id": "VfmHm2ot7md2",
        "outputId": "4b4f1e8e-04cd-4cf7-fe17-f6ea54ae5ca8"
      },
      "execution_count": 10,
      "outputs": [
        {
          "output_type": "stream",
          "name": "stdout",
          "text": [
            "count: 0\n",
            "count: 1\n",
            "count: 2\n",
            "count: 3\n",
            "count: 4\n"
          ]
        }
      ]
    },
    {
      "cell_type": "markdown",
      "source": [
        "control flow loop"
      ],
      "metadata": {
        "id": "CApfEFVZ8ote"
      }
    },
    {
      "cell_type": "code",
      "source": [
        "for i in range(10):\n",
        "  if i==5:\n",
        "    break\n",
        "  print(i)\n"
      ],
      "metadata": {
        "colab": {
          "base_uri": "https://localhost:8080/"
        },
        "id": "oBU39Vyo8sz9",
        "outputId": "cdcc0b67-f83d-4ecd-d6e7-ccbc35e8239e"
      },
      "execution_count": 17,
      "outputs": [
        {
          "output_type": "stream",
          "name": "stdout",
          "text": [
            "0\n",
            "1\n",
            "2\n",
            "3\n",
            "4\n"
          ]
        }
      ]
    },
    {
      "cell_type": "code",
      "source": [
        "for i in range(10):\n",
        "  if i==5:\n",
        "    continue\n",
        "  print(i)"
      ],
      "metadata": {
        "colab": {
          "base_uri": "https://localhost:8080/"
        },
        "id": "b3jaJsBp-A0-",
        "outputId": "09e2f7ab-19d8-4808-ff15-c670a920d349"
      },
      "execution_count": 18,
      "outputs": [
        {
          "output_type": "stream",
          "name": "stdout",
          "text": [
            "0\n",
            "1\n",
            "2\n",
            "3\n",
            "4\n",
            "6\n",
            "7\n",
            "8\n",
            "9\n"
          ]
        }
      ]
    },
    {
      "cell_type": "markdown",
      "source": [
        "pass\n"
      ],
      "metadata": {
        "id": "GmDef9w3-ciG"
      }
    },
    {
      "cell_type": "code",
      "source": [
        "for i in range(10):\n",
        "  if i==5:\n",
        "    pass\n",
        "  print(i)\n"
      ],
      "metadata": {
        "colab": {
          "base_uri": "https://localhost:8080/"
        },
        "id": "ATJAB8ks-d6M",
        "outputId": "fa6f64a4-c2bd-409c-b96d-767a9c4bdffe"
      },
      "execution_count": 49,
      "outputs": [
        {
          "output_type": "stream",
          "name": "stdout",
          "text": [
            "0\n",
            "1\n",
            "2\n",
            "3\n",
            "4\n",
            "5\n",
            "6\n",
            "7\n",
            "8\n",
            "9\n"
          ]
        }
      ]
    },
    {
      "cell_type": "markdown",
      "source": [
        "number even or odd"
      ],
      "metadata": {
        "id": "SV14JWjwCaLV"
      }
    },
    {
      "cell_type": "code",
      "source": [
        "num=int(input(\"enter a number\"))\n",
        "if num%2==0:\n",
        "  print(\"number is even\")\n",
        "else:\n",
        "  print(\"number is odd\")"
      ],
      "metadata": {
        "colab": {
          "base_uri": "https://localhost:8080/"
        },
        "id": "D94DxDaxCfCV",
        "outputId": "52296dac-25db-45fe-c810-0378e63f7493"
      },
      "execution_count": 25,
      "outputs": [
        {
          "output_type": "stream",
          "name": "stdout",
          "text": [
            "enter a number8\n",
            "number is even\n"
          ]
        }
      ]
    },
    {
      "cell_type": "markdown",
      "source": [
        "sum of number in range"
      ],
      "metadata": {
        "id": "hgTmy2RlC7DG"
      }
    },
    {
      "cell_type": "code",
      "source": [
        "s=int(input(\"enter the s in range\"))\n",
        "e=int(input(\"enter the e in range\"))\n",
        "sum=0\n",
        "for i in range(s,e+1):\n",
        "  sum+=i\n",
        "print(\"the sum is:\",sum)\n"
      ],
      "metadata": {
        "colab": {
          "base_uri": "https://localhost:8080/"
        },
        "id": "x_q2MmCjC-rv",
        "outputId": "23053125-152d-4ea1-e8b9-9fbfbbd68471"
      },
      "execution_count": 32,
      "outputs": [
        {
          "output_type": "stream",
          "name": "stdout",
          "text": [
            "enter the s in range5\n",
            "enter the e in range9\n",
            "the sum is: 35\n"
          ]
        }
      ]
    },
    {
      "cell_type": "markdown",
      "source": [
        "programme for factorial"
      ],
      "metadata": {
        "id": "O4kBrm_JE9E-"
      }
    },
    {
      "cell_type": "code",
      "source": [
        "num=int(input('enter a number'))\n",
        "fact=1\n",
        "for i in range(1,num+1):\n",
        "  fact*=i\n",
        "  print(\"the fact is:\",fact)"
      ],
      "metadata": {
        "colab": {
          "base_uri": "https://localhost:8080/"
        },
        "id": "ONp4QMT7FJS8",
        "outputId": "3a5afcf3-2b10-499a-b5b8-61dd0a38916e"
      },
      "execution_count": 38,
      "outputs": [
        {
          "output_type": "stream",
          "name": "stdout",
          "text": [
            "enter a number6\n",
            "the fact is: 1\n",
            "the fact is: 2\n",
            "the fact is: 6\n",
            "the fact is: 24\n",
            "the fact is: 120\n",
            "the fact is: 720\n"
          ]
        }
      ]
    },
    {
      "cell_type": "code",
      "source": [
        "sum=int(input('enter a number'))\n",
        "fact=1\n",
        "for i in range(1,num+1):\n",
        "  fact*=i\n",
        "print(\"the fact is:\",fact)"
      ],
      "metadata": {
        "colab": {
          "base_uri": "https://localhost:8080/"
        },
        "id": "VUYIsf2XHynt",
        "outputId": "9d20f46e-db0d-46c1-8ed6-a60d0b69f4e4"
      },
      "execution_count": 39,
      "outputs": [
        {
          "output_type": "stream",
          "name": "stdout",
          "text": [
            "enter a number6\n",
            "the fact is: 720\n"
          ]
        }
      ]
    },
    {
      "cell_type": "markdown",
      "source": [
        "fibonacci sequence"
      ],
      "metadata": {
        "id": "Z6QXqNuqH_XE"
      }
    },
    {
      "cell_type": "code",
      "source": [
        "n =int(input(\"enter the number of terms:\"))\n",
        "a,b=0,1\n",
        "for i in range(n):\n",
        "  print(a)\n",
        "  a,b=b,a+b"
      ],
      "metadata": {
        "colab": {
          "base_uri": "https://localhost:8080/"
        },
        "id": "7KcZStsiIF_8",
        "outputId": "f1247dfb-2fe3-43fc-f800-d16e29862449"
      },
      "execution_count": 40,
      "outputs": [
        {
          "output_type": "stream",
          "name": "stdout",
          "text": [
            "enter the number of terms:8\n",
            "0\n",
            "1\n",
            "1\n",
            "2\n",
            "3\n",
            "5\n",
            "8\n",
            "13\n"
          ]
        }
      ]
    },
    {
      "cell_type": "code",
      "source": [
        "n =int(input(\"enter the number of terms:\"))\n",
        "a,b=0, 1\n",
        "for i in range(n):\n",
        "  print(a, end=\" \")\n",
        "  a,b=b, a + b\n"
      ],
      "metadata": {
        "colab": {
          "base_uri": "https://localhost:8080/"
        },
        "id": "8LjlqoZ1Jr5_",
        "outputId": "03ccddae-2e61-49eb-c132-72084e2ef842"
      },
      "execution_count": 47,
      "outputs": [
        {
          "output_type": "stream",
          "name": "stdout",
          "text": [
            "enter the number of terms:6\n",
            "0 1 1 2 3 5 "
          ]
        }
      ]
    },
    {
      "cell_type": "markdown",
      "source": [
        "simple calculation using if OPERATORS"
      ],
      "metadata": {
        "id": "mCCu6K3kUnud"
      }
    },
    {
      "cell_type": "code",
      "source": [
        "num1=float(input(\"enter first number:\"))\n",
        "num2=float(input(\"enter second number:\"))\n",
        "operation=input(\"enter operation(+,-,*,/):\")\n",
        "if operation == \"+\":\n",
        "  print(\"result:\",num1+ num2)\n",
        "elif operation ==\"-\":\n",
        "  print(\"result:\",num1-num2)\n",
        "elif operation ==\"*\":\n",
        "  print(\"result:\",num1*num2)\n",
        "elif operation ==\"/\":\n",
        "  print(\"result:\",num1/num2)\n",
        "elif operation ==\"%\":\n",
        "  print(\"result:\",num1%num2)\n",
        "elif operation ==\"//\":\n",
        "  print(\"result:\",num1//num2)\n",
        "else:\n",
        "  print (\"invalid operation\")\n",
        "\n",
        "\n",
        ""
      ],
      "metadata": {
        "colab": {
          "base_uri": "https://localhost:8080/"
        },
        "id": "jamKXWSRUuDM",
        "outputId": "286ea069-5ec6-4c66-e6b3-df2969b96eda"
      },
      "execution_count": 51,
      "outputs": [
        {
          "output_type": "stream",
          "name": "stdout",
          "text": [
            "enter first number:5\n",
            "enter second number:6\n",
            "enter operation(+,-,*,/):?\n",
            "invalid operation\n"
          ]
        }
      ]
    },
    {
      "cell_type": "markdown",
      "source": [
        "leep year"
      ],
      "metadata": {
        "id": "WTxMVFgveD19"
      }
    },
    {
      "cell_type": "code",
      "source": [
        "year=int(input(\"enter a year:\"))\n",
        "if(year%4==0and year%100!=0)or (year%400==0):\n",
        "  print(\"leap year\")\n",
        "else:\n",
        "  print(\"not a leap year\")\n"
      ],
      "metadata": {
        "colab": {
          "base_uri": "https://localhost:8080/"
        },
        "id": "bRvU3OYMeEqZ",
        "outputId": "02f80501-94ea-4275-dcf3-a4370a9f78c1"
      },
      "execution_count": 53,
      "outputs": [
        {
          "output_type": "stream",
          "name": "stdout",
          "text": [
            "enter a year:1996\n",
            "leap year\n"
          ]
        }
      ]
    },
    {
      "cell_type": "markdown",
      "source": [
        "find the largest of three number"
      ],
      "metadata": {
        "id": "Z0O0QtBkgZgR"
      }
    },
    {
      "cell_type": "code",
      "source": [
        "\n",
        "num1=float(input(\"enter first number:\"))\n",
        "num2=float(input(\"enter second number:\"))\n",
        "num3=float(input(\"enter third number:\"))\n",
        "if num1>=num2 and num1>=num3:\n",
        "  print(\"largest number is:\",num1)\n",
        "elif num2>=num1 and num2>=num3:\n",
        "  print(\"largest number is:\",num2)\n",
        "else:\n",
        "  print(\"largest number is:\",num3)\n"
      ],
      "metadata": {
        "colab": {
          "base_uri": "https://localhost:8080/"
        },
        "id": "2-9KbM1Lggqp",
        "outputId": "44e1b56e-38eb-4d49-9e47-24ebc5308d1c"
      },
      "execution_count": 54,
      "outputs": [
        {
          "output_type": "stream",
          "name": "stdout",
          "text": [
            "enter first number:6\n",
            "enter second number:8\n",
            "enter third number:3\n",
            "largest number is: 8.0\n"
          ]
        }
      ]
    },
    {
      "cell_type": "markdown",
      "source": [
        "check the num is+ve or-ve"
      ],
      "metadata": {
        "id": "2uaIuM3liWUx"
      }
    },
    {
      "cell_type": "code",
      "source": [
        "a=int(input(\"enter a number\"))\n",
        "if a>0:\n",
        "  print(\"number is positive\")\n",
        "elif a<0:\n",
        "  print(\"number is negative\")\n",
        "else:\n",
        "  print(\"number is zero\")"
      ],
      "metadata": {
        "colab": {
          "base_uri": "https://localhost:8080/"
        },
        "id": "behRUpztieKj",
        "outputId": "1aaad448-7988-4da9-9b28-b64ff7611991"
      },
      "execution_count": 55,
      "outputs": [
        {
          "output_type": "stream",
          "name": "stdout",
          "text": [
            "enter a number8\n",
            "number is positive\n"
          ]
        }
      ]
    },
    {
      "cell_type": "markdown",
      "source": [
        "sum of all even numbers in range"
      ],
      "metadata": {
        "id": "G2PLWm6Wkgfs"
      }
    },
    {
      "cell_type": "code",
      "source": [
        "s=int(input(\"enter the s in range\"))\n",
        "e=int(input(\"enter the e in range\"))\n",
        "even_sum=0\n",
        "for num in range (s,e+1):\n",
        "  if num%2==0:\n",
        "    even_sum+=num\n",
        "    print(\"sum of even numbers:\",even_sum)\n"
      ],
      "metadata": {
        "colab": {
          "base_uri": "https://localhost:8080/"
        },
        "id": "cCLkrfI6lGoH",
        "outputId": "10a13823-8d0a-4d52-cbd0-d38129dc9fd0"
      },
      "execution_count": 56,
      "outputs": [
        {
          "output_type": "stream",
          "name": "stdout",
          "text": [
            "enter the s in range6\n",
            "enter the e in range9\n",
            "sum of even numbers: 6\n",
            "sum of even numbers: 14\n"
          ]
        }
      ]
    }
  ]
}